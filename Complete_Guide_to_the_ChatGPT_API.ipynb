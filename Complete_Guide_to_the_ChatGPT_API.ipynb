{
  "nbformat": 4,
  "nbformat_minor": 0,
  "metadata": {
    "colab": {
      "provenance": []
    },
    "kernelspec": {
      "name": "python3",
      "display_name": "Python 3"
    },
    "language_info": {
      "name": "python"
    }
  },
  "cells": [
    {
      "cell_type": "code",
      "source": [
        "!pip install openai"
      ],
      "metadata": {
        "id": "g6hUKpeF2mo9"
      },
      "execution_count": null,
      "outputs": []
    },
    {
      "cell_type": "code",
      "source": [
        "!pip install openai"
      ],
      "metadata": {
        "id": "kfza4XhV3vzr"
      },
      "execution_count": null,
      "outputs": []
    },
    {
      "cell_type": "markdown",
      "source": [
        "**Note**: Please replace the \"YOUR_API_KEY\" with the API key provided by [OpenAI](https://platform.openai.com/signup)."
      ],
      "metadata": {
        "id": "KV165pej4Al-"
      }
    },
    {
      "cell_type": "markdown",
      "source": [
        "## Using the ChatGPT API for Chat Completion"
      ],
      "metadata": {
        "id": "GkgchOnC2SIN"
      }
    },
    {
      "cell_type": "code",
      "source": [
        "import openai\n",
        "\n",
        "openai.api_key = \"YOUR_API_KEY\"\n",
        "\n",
        "completion = openai.ChatCompletion.create(\n",
        "  model = \"gpt-3.5-turbo\",\n",
        "  temperature = 0.8,\n",
        "  max_tokens = 2000,\n",
        "  messages = [\n",
        "      {\"role\": \"system\", \"content\": \"You are a funny comedian who tells dad jokes.\"},\n",
        "      {\"role\": \"user\", \"content\": \"Write a dad joke related to numbers.\"},\n",
        "      {\"role\": \"assistant\", \"content\": \"Q: How do you make 7 even? A: Take away the s.\"},\n",
        "      {\"role\": \"user\", \"content\": \"Write one related to programmers.\"}\n",
        " ]\n",
        ")\n",
        "\n",
        "print(completion.choices[0].message)"
      ],
      "metadata": {
        "id": "da12cch32X-6"
      },
      "execution_count": null,
      "outputs": []
    },
    {
      "cell_type": "markdown",
      "source": [
        "## Using the ChatGPT API for Text Completion"
      ],
      "metadata": {
        "id": "3T9Pu8z53UpT"
      }
    },
    {
      "cell_type": "code",
      "source": [
        "import openai\n",
        "\n",
        "openai.api_key = \"YOUR_API_KEY\"\n",
        "\n",
        "completion = openai.ChatCompletion.create(\n",
        "  model = \"gpt-3.5-turbo\",\n",
        "  temperature = 0.8,\n",
        "  max_tokens = 2000,\n",
        "  messages = [\n",
        "        {\"role\": \"system\", \"content\": \"You are a poet who creates poems that evoke emotions.\"},\n",
        "        {\"role\": \"user\", \"content\": \"Write a short poem for programmers.\"}\n",
        "    ]\n",
        ")\n",
        "\n",
        "print(completion.choices[0].message.content)"
      ],
      "metadata": {
        "id": "7M8rSnot3Xgr"
      },
      "execution_count": null,
      "outputs": []
    },
    {
      "cell_type": "markdown",
      "source": [
        "## Using the API Endpoint"
      ],
      "metadata": {
        "id": "plGC6nOC3akA"
      }
    },
    {
      "cell_type": "code",
      "source": [
        "import requests\n",
        "\n",
        "openai.api_key = \"YOUR_API_KEY\"\n",
        "URL = \"https://api.openai.com/v1/chat/completions\"\n",
        "\n",
        "payload = {\n",
        "  \"model\": \"gpt-3.5-turbo\",\n",
        "  \"temperature\" : 1.0,\n",
        "  \"messages\" : [\n",
        "        {\"role\": \"system\", \"content\": f\"You are an assistant who tells any random and very short fun fact about this world.\"},\n",
        "        {\"role\": \"user\", \"content\": f\"Write a fun fact about programmers.\"},\n",
        "        {\"role\": \"assistant\", \"content\": f\"Programmers drink a lot of coffee!\"},\n",
        "        {\"role\": \"user\", \"content\": f\"Write one related to the Python programming language.\"}\n",
        "    ]\n",
        "}\n",
        "\n",
        "headers = {\n",
        "  \"Content-Type\": \"application/json\",\n",
        "  \"Authorization\": f\"Bearer {openai.api_key}\"\n",
        "}\n",
        "\n",
        "response = requests.post(URL, headers=headers, json=payload)\n",
        "response = response.json()\n",
        "\n",
        "print(response['choices'][0]['message']['content'])"
      ],
      "metadata": {
        "id": "sZkcbWW_3e64"
      },
      "execution_count": null,
      "outputs": []
    },
    {
      "cell_type": "markdown",
      "source": [
        "## Using the Official openai Library"
      ],
      "metadata": {
        "id": "1-oarRxy3hm7"
      }
    },
    {
      "cell_type": "code",
      "source": [
        "import openai\n",
        "\n",
        "openai.api_key = \"YOUR_API_KEY\"\n",
        "\n",
        "response = openai.ChatCompletion.create(\n",
        "  model = \"gpt-3.5-turbo\",\n",
        "  temperature = 0.2,\n",
        "  max_tokens = 1000,\n",
        "  messages = [\n",
        "        {\"role\": \"user\", \"content\": \"Who won the 2018 FIFA world cup?\"}\n",
        "    ]\n",
        ")\n",
        "\n",
        "print(response['choices'][0]['message']['content'])"
      ],
      "metadata": {
        "id": "044L00Dr3ju8"
      },
      "execution_count": null,
      "outputs": []
    }
  ]
}